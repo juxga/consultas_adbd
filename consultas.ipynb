{
 "cells": [
  {
   "cell_type": "code",
   "execution_count": 4,
   "id": "c02c80fc",
   "metadata": {},
   "outputs": [],
   "source": [
    "from db_tools import query, build \n",
    "path_to_sql_script = \"script5.sql\"\n",
    "build(path_to_sql_script)"
   ]
  },
  {
   "cell_type": "markdown",
   "id": "87493ffd",
   "metadata": {},
   "source": [
    "# Ejemplo de funcionamiento\n",
    "---"
   ]
  },
  {
   "cell_type": "markdown",
   "id": "56454ecb",
   "metadata": {},
   "source": [
    "## Obtener todos los títulos"
   ]
  },
  {
   "cell_type": "code",
   "execution_count": 8,
   "id": "11b3f208",
   "metadata": {},
   "outputs": [
    {
     "data": {
      "text/html": [
       "<div>\n",
       "<style scoped>\n",
       "    .dataframe tbody tr th:only-of-type {\n",
       "        vertical-align: middle;\n",
       "    }\n",
       "\n",
       "    .dataframe tbody tr th {\n",
       "        vertical-align: top;\n",
       "    }\n",
       "\n",
       "    .dataframe thead th {\n",
       "        text-align: right;\n",
       "    }\n",
       "</style>\n",
       "<table border=\"1\" class=\"dataframe\">\n",
       "  <thead>\n",
       "    <tr style=\"text-align: right;\">\n",
       "      <th></th>\n",
       "      <th>nifsolicitante</th>\n",
       "      <th>nombre</th>\n",
       "      <th>apellidos</th>\n",
       "      <th>domicilio</th>\n",
       "      <th>fechanacimiento</th>\n",
       "    </tr>\n",
       "  </thead>\n",
       "  <tbody>\n",
       "  </tbody>\n",
       "</table>\n",
       "</div>"
      ],
      "text/plain": [
       "Empty DataFrame\n",
       "Columns: [nifsolicitante, nombre, apellidos, domicilio, fechanacimiento]\n",
       "Index: []"
      ]
     },
     "execution_count": 8,
     "metadata": {},
     "output_type": "execute_result"
    }
   ],
   "source": [
    "query(\"SELECT * FROM solicitante;\")"
   ]
  },
  {
   "cell_type": "code",
   "execution_count": null,
   "id": "2a7ef2b8",
   "metadata": {},
   "outputs": [],
   "source": []
  }
 ],
 "metadata": {
  "kernelspec": {
   "display_name": "Python 3 (ipykernel)",
   "language": "python",
   "name": "python3"
  },
  "language_info": {
   "codemirror_mode": {
    "name": "ipython",
    "version": 3
   },
   "file_extension": ".py",
   "mimetype": "text/x-python",
   "name": "python",
   "nbconvert_exporter": "python",
   "pygments_lexer": "ipython3",
   "version": "3.10.6"
  }
 },
 "nbformat": 4,
 "nbformat_minor": 5
}
